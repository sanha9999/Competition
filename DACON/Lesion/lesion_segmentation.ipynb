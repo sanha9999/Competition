{
 "cells": [
  {
   "cell_type": "code",
   "execution_count": 5,
   "id": "49a68bf2",
   "metadata": {},
   "outputs": [],
   "source": [
    "import pandas as pd\n",
    "import numpy as np\n",
    "import json\n",
    "import matplotlib.pyplot as plt\n",
    "import cv2\n",
    "import base64\n",
    "import time\n",
    "import datetime\n",
    "import math\n",
    "import os\n",
    "from PIL import Image\n",
    "from tqdm import tqdm\n",
    "from glob import glob\n",
    "\n",
    "import torch\n",
    "import torchvision\n",
    "import torch.distributed as dist\n",
    "from torch.utils.data import Dataset"
   ]
  },
  {
   "cell_type": "code",
   "execution_count": 8,
   "id": "c58a52a8",
   "metadata": {},
   "outputs": [],
   "source": [
    "train_files = sorted(glob('/home/temp_1/kangsanha/Competition/DACON/Lesion/data/train/*'))\n",
    "test_files = sorted(glob('/home/temp_1/kangsanha/Competition/DACON/Lesion/data/test/*'))"
   ]
  }
 ],
 "metadata": {
  "kernelspec": {
   "display_name": "Python 3 (ipykernel)",
   "language": "python",
   "name": "python3"
  },
  "language_info": {
   "codemirror_mode": {
    "name": "ipython",
    "version": 3
   },
   "file_extension": ".py",
   "mimetype": "text/x-python",
   "name": "python",
   "nbconvert_exporter": "python",
   "pygments_lexer": "ipython3",
   "version": "3.8.0"
  }
 },
 "nbformat": 4,
 "nbformat_minor": 5
}
